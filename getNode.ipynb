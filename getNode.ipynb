{
 "cells": [
  {
   "cell_type": "code",
   "execution_count": 1,
   "id": "246e371a",
   "metadata": {},
   "outputs": [],
   "source": [
    "import tensorflow as tf\n",
    "import tensorflow_hub as hub\n",
    "from tensorflow_docs.vis import embed\n",
    "import numpy as np\n",
    "import cv2\n",
    "import os\n",
    "\n",
    "# Import matplotlib libraries\n",
    "from matplotlib import pyplot as plt\n",
    "from matplotlib.collections import LineCollection\n",
    "import matplotlib.patches as patches\n",
    "\n",
    "# Some modules to display an animation using imageio.\n",
    "import imageio\n",
    "from IPython.display import HTML, display"
   ]
  },
  {
   "cell_type": "code",
   "execution_count": 2,
   "id": "45b67c9d",
   "metadata": {},
   "outputs": [],
   "source": [
    "import tensorflow as tf\n",
    "\n",
    "# 设置本地 TFLite 模型文件的路径\n",
    "model_path = r\"C:\\Users\\ASUS\\Desktop\\school\\project\\TFLiteMovenet\\lite-model_movenet_singlepose_lightning_3.tflite\"  # 替换为你本地模型文件的路径\n",
    "\n",
    "# 初始化 TFLite 解释器\n",
    "interpreter = tf.lite.Interpreter(model_path=model_path)\n",
    "interpreter.allocate_tensors()\n",
    "\n",
    "# 获取输入和输出张量的索引\n",
    "input_details = interpreter.get_input_details()\n",
    "output_details = interpreter.get_output_details()\n",
    "\n",
    "# 定义输入图像的大小\n",
    "input_size = 192  # 根据你的模型配置进行调整\n",
    "\n",
    "def movenet(input_image):\n",
    "    \"\"\"运行输入图像上的检测。\n",
    "\n",
    "    Args:\n",
    "      input_image: 一个 [1, height, width, 3] 张量，表示输入图像像素。请注意，高度/宽度应该已经被调整大小并与模型的期望输入分辨率匹配，然后再传递给此函数。\n",
    "\n",
    "    Returns:\n",
    "      一个 [1, 1, 17, 3] 的浮点 numpy 数组，表示预测的关键点坐标和分数。\n",
    "    \"\"\"\n",
    "    # TF Lite 格式期望 tensor 类型为 float32。\n",
    "    input_image = tf.cast(input_image, dtype=tf.float32)\n",
    "    \n",
    "    # 设置输入张量\n",
    "    interpreter.set_tensor(input_details[0]['index'], input_image.numpy())\n",
    "    \n",
    "    # 运行模型推断\n",
    "    interpreter.invoke()\n",
    "    \n",
    "    # 获取模型输出\n",
    "    keypoints_with_scores = interpreter.get_tensor(output_details[0]['index'])\n",
    "    return keypoints_with_scores\n"
   ]
  },
  {
   "cell_type": "code",
   "execution_count": 3,
   "id": "cd2b6d33",
   "metadata": {},
   "outputs": [],
   "source": [
    "# 图像文件夹路径\n",
    "image_folder=r\"C:\\Users\\ASUS\\Desktop\\school\\project\\poseture\\allPoseture\"\n",
    "output_folder = r\"C:\\Users\\ASUS\\Desktop\\school\\project\\poseture\\Keypoints\"\n",
    "\n",
    "# 遍历图像文件夹中的每个图像文件\n",
    "\n",
    "# Iterate over each image file in the image folder\n",
    "for filename in os.listdir(image_folder):\n",
    "    if filename.endswith('.jpg') or filename.endswith('.JPG'):\n",
    "        # Read the image\n",
    "        image_path = os.path.join(image_folder, filename)\n",
    "        image = tf.io.read_file(image_path)\n",
    "        image = tf.image.decode_jpeg(image)\n",
    "        \n",
    "        # Resize and pad the image\n",
    "        input_image = tf.expand_dims(image, axis=0)\n",
    "        input_image = tf.image.resize_with_pad(input_image, input_size, input_size)\n",
    "\n",
    "        # Run model inference\n",
    "        keypoints_with_scores = movenet(input_image)\n",
    "        \n",
    "        #存節點\n",
    "        output_path = os.path.join(output_folder, filename.replace('.jpg', '.npy').replace('.JPG', '.npy'))\n",
    "        np.save(output_path, keypoints_with_scores)\n"
   ]
  },
  {
   "cell_type": "code",
   "execution_count": null,
   "id": "685b6153",
   "metadata": {},
   "outputs": [],
   "source": [
    "keypoints = np.load(r\"C:\\Users\\ASUS\\Desktop\\school\\project\\poseture\\Keypoints\\falldown336.npy\")\n",
    "print(keypoints)\n",
    "print(keypoints.shape)"
   ]
  },
  {
   "cell_type": "code",
   "execution_count": null,
   "id": "08275308",
   "metadata": {},
   "outputs": [],
   "source": []
  }
 ],
 "metadata": {
  "kernelspec": {
   "display_name": "Python 3 (ipykernel)",
   "language": "python",
   "name": "python3"
  },
  "language_info": {
   "codemirror_mode": {
    "name": "ipython",
    "version": 3
   },
   "file_extension": ".py",
   "mimetype": "text/x-python",
   "name": "python",
   "nbconvert_exporter": "python",
   "pygments_lexer": "ipython3",
   "version": "3.10.9"
  }
 },
 "nbformat": 4,
 "nbformat_minor": 5
}
