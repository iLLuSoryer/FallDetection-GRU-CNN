{
 "cells": [
  {
   "cell_type": "code",
   "execution_count": 1,
   "id": "620a1b6b",
   "metadata": {},
   "outputs": [],
   "source": [
    "import os\n",
    "import numpy as np\n",
    "import tensorflow as tf\n",
    "from tensorflow.keras import layers, models, regularizers\n",
    "from tensorflow.keras.layers import Dropout\n",
    "from sklearn.model_selection import train_test_split\n"
   ]
  },
  {
   "cell_type": "code",
   "execution_count": 2,
   "id": "23c6fc8b",
   "metadata": {},
   "outputs": [],
   "source": [
    "# 设置包含数据文件的目录路径\n",
    "data_directory = r\"C:\\Users\\ASUS\\Desktop\\school\\project\\poseture\\KeypointsWithoutFalldown\"\n",
    "\n",
    "# 创建一个列表来存储数据\n",
    "data = []\n",
    "labels = []\n",
    "\n",
    "# 遍历目录中的所有 .npy 文件\n",
    "for filename in os.listdir(data_directory):\n",
    "    if filename.endswith('.npy'):\n",
    "        # 加载 .npy 文件\n",
    "        file_path = os.path.join(data_directory, filename)\n",
    "        keypoints_data = np.load(file_path)\n",
    "        \n",
    "        # 根據檔名來判斷類別\n",
    "        if filename.startswith('standing'):\n",
    "            label = 0\n",
    "        elif filename.startswith('sitting'):\n",
    "            label = 1\n",
    "        elif filename.startswith('lying'):\n",
    "            label = 2\n",
    "        else:\n",
    "            continue  # 如果檔名不符合任何已知的模式，則忽略該檔案\n",
    "        \n",
    "        # 将数据添加到列表中\n",
    "        keypoints_data = np.squeeze(keypoints_data, axis=0)  # 去除额外的维度\n",
    "        data.append(keypoints_data)\n",
    "        labels.append(label)\n",
    "\n",
    "# 将列表转换为 NumPy 数组\n",
    "data = np.array(data)\n",
    "labels = np.array(labels)\n",
    "\n",
    "# 将数据展平为 (360, 17*3)\n",
    "# data = data.reshape(data.shape[0], -1)\n"
   ]
  },
  {
   "cell_type": "code",
   "execution_count": 3,
   "id": "d037ddc3",
   "metadata": {},
   "outputs": [
    {
     "name": "stdout",
     "output_type": "stream",
     "text": [
      "(2320, 1, 17, 3)\n"
     ]
    }
   ],
   "source": [
    "print(data.shape)"
   ]
  },
  {
   "cell_type": "code",
   "execution_count": 4,
   "id": "91f51e44",
   "metadata": {},
   "outputs": [],
   "source": [
    "# 切分数据集为训练集和测试集\n",
    "test_size = 0.2  # 指定测试集的比例\n",
    "random_state = 42  # 随机种子，可选\n",
    "X_train, X_test, y_train, y_test = train_test_split(data, labels, test_size=test_size, random_state=random_state)\n",
    "\n",
    "# 調整 X_train 和 X_test 的形狀以適應模型的輸入層\n",
    "# X_train = X_train.reshape(X_train.shape[0], 1, 17, 3)\n",
    "# X_test = X_test.reshape(X_test.shape[0], 1, 17, 3)\n",
    "\n",
    "\n",
    "model = models.Sequential([\n",
    "    layers.Conv2D(32, (2, 2), activation='relu', input_shape=(1, 17, 3), padding='same'),\n",
    "    layers.MaxPooling2D((1, 2), strides=(1, 1)),\n",
    "    layers.Conv2D(64, (2, 2), activation='relu', padding='same'),\n",
    "    layers.MaxPooling2D((1, 2), strides=(1, 1)),\n",
    "    layers.Flatten(),\n",
    "    layers.Dense(128, activation='relu'),\n",
    "    layers.Dropout(0.5),\n",
    "    layers.Dense(3, activation='softmax')\n",
    "])\n"
   ]
  },
  {
   "cell_type": "code",
   "execution_count": 5,
   "id": "05c72d75",
   "metadata": {
    "scrolled": true
   },
   "outputs": [
    {
     "name": "stdout",
     "output_type": "stream",
     "text": [
      "Model: \"sequential\"\n",
      "_________________________________________________________________\n",
      " Layer (type)                Output Shape              Param #   \n",
      "=================================================================\n",
      " conv2d (Conv2D)             (None, 1, 17, 32)         416       \n",
      "                                                                 \n",
      " max_pooling2d (MaxPooling2  (None, 1, 16, 32)         0         \n",
      " D)                                                              \n",
      "                                                                 \n",
      " conv2d_1 (Conv2D)           (None, 1, 16, 64)         8256      \n",
      "                                                                 \n",
      " max_pooling2d_1 (MaxPoolin  (None, 1, 15, 64)         0         \n",
      " g2D)                                                            \n",
      "                                                                 \n",
      " flatten (Flatten)           (None, 960)               0         \n",
      "                                                                 \n",
      " dense (Dense)               (None, 128)               123008    \n",
      "                                                                 \n",
      " dropout (Dropout)           (None, 128)               0         \n",
      "                                                                 \n",
      " dense_1 (Dense)             (None, 3)                 387       \n",
      "                                                                 \n",
      "=================================================================\n",
      "Total params: 132067 (515.89 KB)\n",
      "Trainable params: 132067 (515.89 KB)\n",
      "Non-trainable params: 0 (0.00 Byte)\n",
      "_________________________________________________________________\n"
     ]
    }
   ],
   "source": [
    "model.summary()"
   ]
  },
  {
   "cell_type": "code",
   "execution_count": 6,
   "id": "ec4581bc",
   "metadata": {},
   "outputs": [],
   "source": [
    "model.compile(optimizer='adam',\n",
    "              loss='sparse_categorical_crossentropy',  # 适合分类任务的损失函数\n",
    "              metrics=['accuracy'])\n"
   ]
  },
  {
   "cell_type": "code",
   "execution_count": 7,
   "id": "67283329",
   "metadata": {},
   "outputs": [
    {
     "name": "stdout",
     "output_type": "stream",
     "text": [
      "Epoch 1/10\n",
      "58/58 [==============================] - 1s 9ms/step - loss: 1.0378 - accuracy: 0.4768 - val_loss: 0.9753 - val_accuracy: 0.4935\n",
      "Epoch 2/10\n",
      "58/58 [==============================] - 0s 5ms/step - loss: 0.8765 - accuracy: 0.6180 - val_loss: 0.7834 - val_accuracy: 0.6746\n",
      "Epoch 3/10\n",
      "58/58 [==============================] - 0s 5ms/step - loss: 0.6905 - accuracy: 0.7026 - val_loss: 0.5902 - val_accuracy: 0.7608\n",
      "Epoch 4/10\n",
      "58/58 [==============================] - 0s 5ms/step - loss: 0.5152 - accuracy: 0.8109 - val_loss: 0.4719 - val_accuracy: 0.8211\n",
      "Epoch 5/10\n",
      "58/58 [==============================] - 0s 5ms/step - loss: 0.4421 - accuracy: 0.8227 - val_loss: 0.4476 - val_accuracy: 0.8341\n",
      "Epoch 6/10\n",
      "58/58 [==============================] - 0s 5ms/step - loss: 0.3733 - accuracy: 0.8658 - val_loss: 0.3819 - val_accuracy: 0.8470\n",
      "Epoch 7/10\n",
      "58/58 [==============================] - 0s 5ms/step - loss: 0.3043 - accuracy: 0.8987 - val_loss: 0.3205 - val_accuracy: 0.8728\n",
      "Epoch 8/10\n",
      "58/58 [==============================] - 0s 5ms/step - loss: 0.2674 - accuracy: 0.9068 - val_loss: 0.3075 - val_accuracy: 0.8815\n",
      "Epoch 9/10\n",
      "58/58 [==============================] - 0s 5ms/step - loss: 0.2194 - accuracy: 0.9251 - val_loss: 0.2711 - val_accuracy: 0.8944\n",
      "Epoch 10/10\n",
      "58/58 [==============================] - 0s 5ms/step - loss: 0.2013 - accuracy: 0.9321 - val_loss: 0.2386 - val_accuracy: 0.9203\n"
     ]
    }
   ],
   "source": [
    "# 訓練模型\n",
    "train_history = model.fit(X_train, y_train, epochs=10, batch_size=32, validation_data=(X_test, y_test))\n"
   ]
  },
  {
   "cell_type": "code",
   "execution_count": 8,
   "id": "c8457119",
   "metadata": {},
   "outputs": [],
   "source": [
    "import matplotlib.pyplot as plt\n",
    "def show_train_history(train_acc,test_acc):\n",
    "    plt.plot(train_history.history[train_acc])\n",
    "    plt.plot(train_history.history[test_acc])\n",
    "    plt.title('Train History')\n",
    "    plt.ylabel('Accuracy')\n",
    "    plt.xlabel('Epoch')\n",
    "    plt.legend(['train', 'test'], loc='upper left')\n",
    "    plt.show()"
   ]
  },
  {
   "cell_type": "code",
   "execution_count": 9,
   "id": "f13ce18b",
   "metadata": {},
   "outputs": [
    {
     "data": {
      "image/png": "[encoded data removed]",
      "text/plain": [
       "<Figure size 640x480 with 1 Axes>"
      ]
     },
     "metadata": {},
     "output_type": "display_data"
    }
   ],
   "source": [
    "show_train_history('accuracy','val_accuracy')"
   ]
  },
  {
   "cell_type": "code",
   "execution_count": 10,
   "id": "788e59ce",
   "metadata": {},
   "outputs": [
    {
     "name": "stdout",
     "output_type": "stream",
     "text": [
      "INFO:tensorflow:Assets written to: C:\\Users\\ASUS\\Desktop\\school\\project\\model\\best3poseturemodel\\assets\n"
     ]
    },
    {
     "name": "stderr",
     "output_type": "stream",
     "text": [
      "INFO:tensorflow:Assets written to: C:\\Users\\ASUS\\Desktop\\school\\project\\model\\best3poseturemodel\\assets\n"
     ]
    }
   ],
   "source": [
    "# 儲存模型\n",
    "model.save(r\"C:\\Users\\ASUS\\Desktop\\school\\project\\model\\best3poseturemodel\")"
   ]
  },
  {
   "cell_type": "code",
   "execution_count": 11,
   "id": "7e9f8c09",
   "metadata": {},
   "outputs": [
    {
     "name": "stdout",
     "output_type": "stream",
     "text": [
      "(1, 1, 17, 3)\n",
      "1/1 [==============================] - 0s 118ms/step\n",
      "The model predicts that the image is standing.\n"
     ]
    }
   ],
   "source": [
    "import cv2 \n",
    "from tensorflow.keras.models import load_model\n",
    "\n",
    "# 加載模型\n",
    "model = load_model(r\"C:\\Users\\ASUS\\Desktop\\school\\project\\model\\testModel\")\n",
    "interpreter = tf.lite.Interpreter(model_path=r\"C:\\Users\\ASUS\\Desktop\\school\\project\\TFLiteMovenet\\lite-model_movenet_singlepose_lightning_3.tflite\")\n",
    "interpreter.allocate_tensors()\n",
    "\n",
    "# 定義圖片路徑\n",
    "image_path = r\"C:\\Users\\ASUS\\Desktop\\school\\project\\poseture\\lying\\lying72.jpg\"\n",
    "\n",
    "image_height = 192\n",
    "image_width = 192\n",
    "# 讀取圖片\n",
    "image = cv2.imread(image_path)\n",
    "\n",
    "image = tf.image.resize_with_pad(image, image_height, image_width)\n",
    "input_image = tf.cast(image, dtype=tf.float32)\n",
    "\n",
    "#Setup input and output\n",
    "input_details = interpreter.get_input_details()\n",
    "output_details = interpreter.get_output_details()\n",
    "\n",
    "input_image = np.expand_dims(input_image, axis=0)  # 添加批次维度\n",
    "interpreter.set_tensor(input_details[0][\"index\"], input_image)\n",
    "interpreter.invoke()\n",
    "keypoints_with_scores = interpreter.get_tensor(output_details[0][\"index\"])\n",
    "\n",
    "now_input = keypoints_with_scores\n",
    "print(now_input.shape)\n",
    "\n",
    "# 使用模型進行預測\n",
    "predictions = model.predict(now_input)\n",
    "\n",
    "# predictions 是一個包含每個類別預測概率的數組，我們可以使用 argmax 來獲得最大概率的索引\n",
    "predicted_class = np.argmax(predictions)\n",
    "\n",
    "# 打印預測結果\n",
    "if predicted_class == 0:\n",
    "    predicted_class = 'standing'\n",
    "elif predicted_class == 1:\n",
    "    predicted_class = 'sitting'\n",
    "elif predicted_class == 2:\n",
    "    predicted_class = 'lying'\n",
    "elif predicted_class == 3:\n",
    "    predicted_class = 'falldown'\n",
    "print(f'The model predicts that the image is {predicted_class}.')"
   ]
  },
  {
   "cell_type": "code",
   "execution_count": null,
   "id": "19b85889",
   "metadata": {},
   "outputs": [],
   "source": []
  }
 ],
 "metadata": {
  "kernelspec": {
   "display_name": "Python 3 (ipykernel)",
   "language": "python",
   "name": "python3"
  },
  "language_info": {
   "codemirror_mode": {
    "name": "ipython",
    "version": 3
   },
   "file_extension": ".py",
   "mimetype": "text/x-python",
   "name": "python",
   "nbconvert_exporter": "python",
   "pygments_lexer": "ipython3",
   "version": "3.10.9"
  }
 },
 "nbformat": 4,
 "nbformat_minor": 5
}
